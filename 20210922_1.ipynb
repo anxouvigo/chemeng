{
  "nbformat": 4,
  "nbformat_minor": 0,
  "metadata": {
    "colab": {
      "name": "Untitled0.ipynb",
      "provenance": [],
      "authorship_tag": "ABX9TyN++4cYtZ43u1qC66FAEvVa",
      "include_colab_link": true
    },
    "kernelspec": {
      "name": "python3",
      "display_name": "Python 3"
    },
    "language_info": {
      "name": "python"
    }
  },
  "cells": [
    {
      "cell_type": "markdown",
      "metadata": {
        "id": "view-in-github",
        "colab_type": "text"
      },
      "source": [
        "<a href=\"https://colab.research.google.com/github/anxouvigo/chemeng/blob/main/20210922_1.ipynb\" target=\"_parent\"><img src=\"https://colab.research.google.com/assets/colab-badge.svg\" alt=\"Open In Colab\"/></a>"
      ]
    },
    {
      "cell_type": "code",
      "metadata": {
        "id": "7Woedm3cC-RL"
      },
      "source": [
        "!python3 -m pip install chempy[all]"
      ],
      "execution_count": null,
      "outputs": []
    },
    {
      "cell_type": "code",
      "metadata": {
        "id": "dkqrQa5ADNYn"
      },
      "source": [
        "!python3 -m pytest -rs -W ignore::chempy.ChemPyDeprecationWarning --pyargs chempy"
      ],
      "execution_count": null,
      "outputs": []
    },
    {
      "cell_type": "code",
      "metadata": {
        "id": "UfW9hihwDQOs"
      },
      "source": [
        "from chempy import Substance\n",
        "ferricyanide = Substance.from_formula('Fe(CN)6-3')"
      ],
      "execution_count": null,
      "outputs": []
    },
    {
      "cell_type": "code",
      "metadata": {
        "id": "ArUHnZd-D6Mw"
      },
      "source": [
        "ferricyanide.composition == {0: -3, 26: 1, 6: 6, 7: 6}  # 0 for charge"
      ],
      "execution_count": null,
      "outputs": []
    },
    {
      "cell_type": "code",
      "metadata": {
        "id": "wjZCbEPAD-hP"
      },
      "source": [
        "print(ferricyanide.unicode_name)"
      ],
      "execution_count": null,
      "outputs": []
    },
    {
      "cell_type": "code",
      "metadata": {
        "id": "OVpVG6UkEDXh"
      },
      "source": [
        "print(ferricyanide.latex_name + \", \" + ferricyanide.html_name)"
      ],
      "execution_count": null,
      "outputs": []
    },
    {
      "cell_type": "code",
      "metadata": {
        "id": "3ypTxLu6EHb5"
      },
      "source": [
        "print('%.3f' % ferricyanide.mass)"
      ],
      "execution_count": null,
      "outputs": []
    },
    {
      "cell_type": "markdown",
      "metadata": {
        "id": "Mq8GKbVQET9H"
      },
      "source": [
        "$$\n",
        "Fe(CN)_{6}^{3-}\n",
        "$$\n",
        "\n",
        "Fe(CN)<sub>6</sub><sup>3-</sup>\n"
      ]
    },
    {
      "cell_type": "code",
      "metadata": {
        "id": "CpNb5HCMEiDX"
      },
      "source": [
        ""
      ],
      "execution_count": null,
      "outputs": []
    },
    {
      "cell_type": "code",
      "metadata": {
        "id": "1I6S7fjXEdLy"
      },
      "source": [
        ""
      ],
      "execution_count": null,
      "outputs": []
    }
  ]
}